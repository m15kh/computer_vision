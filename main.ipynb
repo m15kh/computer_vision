{
 "cells": [
  {
   "cell_type": "code",
   "execution_count": 2,
   "metadata": {},
   "outputs": [],
   "source": [
    "path_before = 'before.png'\n",
    "path_after = 'after.png'"
   ]
  },
  {
   "cell_type": "code",
   "execution_count": 3,
   "metadata": {},
   "outputs": [
    {
     "name": "stdout",
     "output_type": "stream",
     "text": [
      "Image  before  Shape: (256, 256, 3)\n",
      "Image after Shape: (256, 256, 3)\n"
     ]
    }
   ],
   "source": [
    "import cv2\n",
    "\n",
    "# Attempt to read an image\n",
    "image_b = cv2.imread(path_before)\n",
    "image_a = cv2.imread(path_after)\n",
    "print(\"Image  before  Shape:\", image_b.shape)\n",
    "print(\"Image after Shape:\", image_a.shape)\n"
   ]
  },
  {
   "cell_type": "code",
   "execution_count": 4,
   "metadata": {},
   "outputs": [
    {
     "ename": "",
     "evalue": "",
     "output_type": "error",
     "traceback": [
      "\u001b[1;31mThe Kernel crashed while executing code in the current cell or a previous cell. \n",
      "\u001b[1;31mPlease review the code in the cell(s) to identify a possible cause of the failure. \n",
      "\u001b[1;31mClick <a href='https://aka.ms/vscodeJupyterKernelCrash'>here</a> for more info. \n",
      "\u001b[1;31mView Jupyter <a href='command:jupyter.viewOutput'>log</a> for further details."
     ]
    }
   ],
   "source": [
    "import torch\n",
    "import segmentation_models_pytorch as smp\n",
    "import cv2\n",
    "import numpy as np\n",
    "\n",
    "# Load the pre-trained U-Net model\n",
    "model = smp.Unet(encoder_name=\"resnet34\", encoder_weights=\"imagenet\", classes=1, activation='sigmoid')\n",
    "\n",
    "# Load the second image (with the building)\n",
    "img_with_building = cv2.imread(path_after)\n",
    "img = cv2.resize(img_with_building, (256, 256))  # Resize to match the model input\n",
    "\n",
    "# Preprocess the image\n",
    "img = img.astype('float32') / 255.0\n",
    "img = np.transpose(img, (2, 0, 1))  # Convert to CHW format (for PyTorch)\n",
    "img = torch.tensor(img).unsqueeze(0)  # Add batch dimension\n",
    "\n",
    "# Run inference\n",
    "with torch.no_grad():\n",
    "    output = model(img)\n",
    "    \n",
    "# Threshold the output to get the binary mask\n",
    "output_np = output.squeeze().numpy()\n",
    "mask = (output_np > 0.5).astype(np.uint8)\n",
    "\n",
    "# Post-process the mask (optional)\n",
    "kernel = np.ones((5, 5), np.uint8)\n",
    "mask = cv2.morphologyEx(mask, cv2.MORPH_CLOSE, kernel)\n",
    "\n",
    "# Overlay the mask on the original image\n",
    "mask = cv2.resize(mask, (img_with_building.shape[1], img_with_building.shape[0]))  # Resize mask back to original size\n",
    "highlighted = cv2.addWeighted(img_with_building, 0.8, cv2.cvtColor(mask * 255, cv2.COLOR_GRAY2BGR), 0.4, 0)\n",
    "\n",
    "# Show the result\n",
    "cv2.imshow(\"Detected Building\", highlighted)\n",
    "cv2.waitKey(0)\n",
    "cv2.destroyAllWindows()\n"
   ]
  },
  {
   "cell_type": "code",
   "execution_count": null,
   "metadata": {},
   "outputs": [],
   "source": []
  }
 ],
 "metadata": {
  "kernelspec": {
   "display_name": "fingerprinttest",
   "language": "python",
   "name": "python3"
  },
  "language_info": {
   "codemirror_mode": {
    "name": "ipython",
    "version": 3
   },
   "file_extension": ".py",
   "mimetype": "text/x-python",
   "name": "python",
   "nbconvert_exporter": "python",
   "pygments_lexer": "ipython3",
   "version": "3.9.19"
  }
 },
 "nbformat": 4,
 "nbformat_minor": 2
}
